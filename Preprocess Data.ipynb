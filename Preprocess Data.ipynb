{
 "cells": [
  {
   "cell_type": "code",
   "execution_count": 61,
   "metadata": {},
   "outputs": [
    {
     "name": "stdout",
     "output_type": "stream",
     "text": [
      "Name: \n",
      "Type: Graph\n",
      "Number of nodes: 4085\n",
      "Number of edges: 26937\n",
      "Average degree:  13.1882\n"
     ]
    }
   ],
   "source": [
    "import pandas as pd\n",
    "import numpy as np\n",
    "import networkx as nx\n",
    "import re\n",
    "\n",
    "\n",
    "# Read train data and build a graph with node attributes\n",
    "# Train data is a .tsv file consisting of observed edges from source to sinks, eg: 1 2\\t3\\n\n",
    "# Test data is csv file with id, source, sink as columns\n",
    "def create_graph(edge_path, node_att_path, mode=None):\n",
    "\n",
    "    # Read node att and fill path\n",
    "    node_att_df = pd.read_json(node_att_path, orient='records')\n",
    "    node_att_df.fillna(0, inplace=True)\n",
    "    node_att_df.set_index('id', inplace=True)\n",
    "\n",
    "    if mode=='test':\n",
    "        return\n",
    "    else:\n",
    "        with open(edge_path, 'r') as f:\n",
    "            lines = f.readlines()\n",
    "\n",
    "        # Split lines in train data and convert to int\n",
    "        for i in range(len(lines)):\n",
    "            lines[i] = list(map(int, re.split(r'[\\s:]', lines[i].strip())))\n",
    "\n",
    "        # Instantiate graph and add nodes\n",
    "        G = nx.Graph()\n",
    "        G.add_nodes_from(list(node_att_df.to_dict('index').items()))\n",
    "\n",
    "        # Add edges to graph\n",
    "        for i in range(len(lines)):\n",
    "            for j in range(1, len(lines[i])):\n",
    "                G.add_edge(lines[i][0], lines[i][j])\n",
    "\n",
    "        return G\n",
    "\n",
    "oriG = create_graph('train.txt', 'nodes.json')\n",
    "nx.write_graphml(oriG, 'originalG.graphml')\n",
    "\n",
    "# Properties of graph\n",
    "print(nx.info(oriG))\n"
   ]
  }
 ],
 "metadata": {
  "kernelspec": {
   "display_name": "Python 3",
   "language": "python",
   "name": "python3"
  },
  "language_info": {
   "codemirror_mode": {
    "name": "ipython",
    "version": 3
   },
   "file_extension": ".py",
   "mimetype": "text/x-python",
   "name": "python",
   "nbconvert_exporter": "python",
   "pygments_lexer": "ipython3",
   "version": "3.7.0"
  }
 },
 "nbformat": 4,
 "nbformat_minor": 4
}
